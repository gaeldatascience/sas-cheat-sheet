{
 "cells": [
  {
   "cell_type": "markdown",
   "metadata": {},
   "source": [
    "## **1. Procédures pour la gestion des données**"
   ]
  },
  {
   "cell_type": "markdown",
   "metadata": {},
   "source": [
    "### **``PROC IMPORT``**"
   ]
  },
  {
   "cell_type": "markdown",
   "metadata": {},
   "source": [
    "**Utilisée pour importer des fichiers externes (CSV, Excel, etc.) en tant que tables SAS.**"
   ]
  },
  {
   "cell_type": "markdown",
   "metadata": {
    "vscode": {
     "languageId": "raw"
    }
   },
   "source": [
    "```sas\n",
    "PROC IMPORT DATAFILE='chemin_du_fichier.csv' /* Chemin du fichier à importer */\n",
    "    OUT=nom_table /* Nom de la table SAS créée */\n",
    "    DBMS=CSV /* Type de fichier : CSV, XLSX, etc. */\n",
    "    REPLACE; /* Remplace la table si elle existe déjà */\n",
    "    /* GETNAMES=YES/NO; Indique si la première ligne contient les noms de colonnes. */\n",
    "    /* DELIMITER=',' */\n",
    "    /* GUESSINGROWS=MAX; */\n",
    "RUN;"
   ]
  },
  {
   "cell_type": "markdown",
   "metadata": {},
   "source": [
    "### **``PROC EXPORT``**"
   ]
  },
  {
   "cell_type": "markdown",
   "metadata": {},
   "source": [
    "**Exporte des tables SAS vers des fichiers externes comme CSV ou Excel.**"
   ]
  },
  {
   "cell_type": "markdown",
   "metadata": {
    "vscode": {
     "languageId": "raw"
    }
   },
   "source": [
    "```sas\n",
    "PROC EXPORT DATA=nom_table /* Table SAS à exporter */\n",
    "    OUTFILE='chemin_du_fichier.csv' /* Chemin et nom du fichier exporté */\n",
    "    DBMS=CSV /* Type de fichier */\n",
    "    REPLACE; /* Remplace le fichier s'il existe déjà */\n",
    "RUN;"
   ]
  },
  {
   "cell_type": "markdown",
   "metadata": {},
   "source": [
    "### **``ODS`` (Output Delivery System)**"
   ]
  },
  {
   "cell_type": "markdown",
   "metadata": {},
   "source": [
    "**Exporte des tables SAS dans plusieurs formats (option `title`).**"
   ]
  },
  {
   "cell_type": "markdown",
   "metadata": {},
   "source": [
    "```sas\n",
    "ods rtf file=\"STAT_Report.rtf\";\n",
    "title \"Rapport des Statistiques sur les Données STAT\"; /* Ajouter un titre */\n",
    "proc print data=STAT noobs;\n",
    "run;\n",
    "ods rtf close;\n",
    "title; /* Réinitialise le titre */\n",
    "/* rtf, pdf, excel, csvall */"
   ]
  },
  {
   "cell_type": "markdown",
   "metadata": {},
   "source": [
    "### **``PROC SORT``**"
   ]
  },
  {
   "cell_type": "markdown",
   "metadata": {},
   "source": [
    "**Trie une table SAS selon une ou plusieurs variables et permet d'éliminer les doublons.**"
   ]
  },
  {
   "cell_type": "markdown",
   "metadata": {
    "vscode": {
     "languageId": "raw"
    }
   },
   "source": [
    "```sas\n",
    "PROC SORT DATA=nom_table OUT=table_triee; /* Table triée en sortie */\n",
    "    BY colonne1 colonne2; /* Trie par ordre croissant (par défaut) */\n",
    "    /* BY DESCENDING colonne; : Trie une colonne en ordre décroissant. */\n",
    "    /* OUT=table_triee NODUPKEY; : Supprime les doublons en fonction des colonnes listées. */\n",
    "    /* NODUP : Tous les doublons indépendemment des colonnes listées. */\n",
    "RUN;"
   ]
  },
  {
   "cell_type": "markdown",
   "metadata": {},
   "source": [
    "## **2. Procédures pour les statistiques descriptives**"
   ]
  },
  {
   "cell_type": "markdown",
   "metadata": {},
   "source": [
    "### **``PROC MEANS``**"
   ]
  },
  {
   "cell_type": "markdown",
   "metadata": {},
   "source": [
    "**Fournit des statistiques descriptives comme la moyenne, la médiane, et les écart-types.**"
   ]
  },
  {
   "cell_type": "markdown",
   "metadata": {},
   "source": [
    "```sas\n",
    "PROC MEANS DATA=nom_table NOPRINT;\n",
    "    VAR ma_variable;\n",
    "    CLASS ma_variable2;\n",
    "    OUTPUT OUT=stats_table(DROP=_TYPE_ _FREQ_) \n",
    "        N=\n",
    "        NMISS=\n",
    "        MEAN=\n",
    "        MEDIAN=\n",
    "        MIN=\n",
    "        MAX=\n",
    "        RANGE=\n",
    "        VAR=\n",
    "        STD=\n",
    "        CSS=\n",
    "        USS=\n",
    "        CV=\n",
    "        P1=\n",
    "        P5=\n",
    "        P10=\n",
    "        P25=\n",
    "        P50=\n",
    "        P75=\n",
    "        P90=\n",
    "        P95=\n",
    "        P99=\n",
    "        / AUTONAME;\n",
    "RUN;\n",
    "PROC PRINT data=stats_table; run;"
   ]
  },
  {
   "cell_type": "markdown",
   "metadata": {},
   "source": [
    "**Différences entre ``PROC MEANS`` et ``PROC UNIVARIATE`` :**"
   ]
  },
  {
   "cell_type": "markdown",
   "metadata": {},
   "source": [
    "``PROC MEANS`` est rapide et centré sur les statistiques descriptives classiques comme la moyenne, la médiane, le minimum et l’écart-type, avec un support direct des regroupements via CLASS, mais ne propose ni tests de normalité, ni moments (asymétrie, kurtosis) ou graphiques."
   ]
  },
  {
   "cell_type": "markdown",
   "metadata": {},
   "source": [
    "``PROC UNIVARIATE`` est plus complet, offrant des tests de normalité, moments, percentiles personnalisés et graphiques (histogrammes, probplots), mais il est plus lent pour de grands volumes et nécessite BY avec tri préalable pour les regroupements."
   ]
  },
  {
   "cell_type": "markdown",
   "metadata": {},
   "source": [
    "### **``PROC UNIVARIATE``**"
   ]
  },
  {
   "cell_type": "markdown",
   "metadata": {},
   "source": [
    "**Analyse la distribution des variables numériques (option avec graph), détecte les valeurs aberrantes et teste la normalité.**"
   ]
  },
  {
   "cell_type": "markdown",
   "metadata": {},
   "source": [
    "**Version orientée statistiques :**"
   ]
  },
  {
   "cell_type": "markdown",
   "metadata": {},
   "source": [
    "```sas\n",
    "PROC UNIVARIATE DATA=nom_table NOPRINT;\n",
    "    VAR ma_variable;\n",
    "    OUTPUT OUT=stats_table\n",
    "        N=N_obs\n",
    "        NMISS=N_miss\n",
    "        MEAN=Mean_value\n",
    "        MEDIAN=Median_value\n",
    "        MIN=Min_value\n",
    "        MAX=Max_value\n",
    "        RANGE=Range_value\n",
    "        VARIANCE=Variance_value\n",
    "        STD=StdDev_value\n",
    "        SKEWNESS=Skewness_value\n",
    "        KURTOSIS=Kurtosis_value\n",
    "        PCTLPTS=10 25 50 75 90 \n",
    "        PCTLPRE=Pctl_;\n",
    "RUN;"
   ]
  },
  {
   "cell_type": "markdown",
   "metadata": {},
   "source": [
    "**Version orientée graphique :**"
   ]
  },
  {
   "cell_type": "markdown",
   "metadata": {},
   "source": [
    "```sas\n",
    "PROC UNIVARIATE DATA=nom_table;\n",
    "    VAR ma_variable;\n",
    "    histogram ma_variable /* ou probplot *// normal;\n",
    "\tinset mean=\"Moyenne : \" std=\"Ecart-type : \" / position=ne; /* Pour rajouter des stats dans le graph */\n",
    "    /* id id_variable; : Pour identifier les observations extrêmes */\n",
    "run;"
   ]
  },
  {
   "cell_type": "markdown",
   "metadata": {},
   "source": [
    "### **``PROC FREQ``**"
   ]
  },
  {
   "cell_type": "markdown",
   "metadata": {},
   "source": [
    "**Analyse la distribution des variables catégoriques et produit des tableaux croisés.**"
   ]
  },
  {
   "cell_type": "markdown",
   "metadata": {
    "vscode": {
     "languageId": "raw"
    }
   },
   "source": [
    "```sas\n",
    "PROC FREQ DATA=nom_table;\n",
    "    TABLES colonne / NOCUM MISSING LIST out=table_sortie; \n",
    "    /* TABLES colonne1 * colonne2 : Tableau croisé */\n",
    "    /* NOCUM : Affiche les fréquences sans cumul */\n",
    "    /* MISSING : Inclut les valeurs manquantes dans les calculs. */\n",
    "    /* LIST : Affiche les fréquences sous forme de liste. */\n",
    "    /* NOPERCENT NOROW NOCOL NOFREQ */\n",
    "RUN;"
   ]
  },
  {
   "cell_type": "markdown",
   "metadata": {},
   "source": [
    "## **3. Exploration des données**"
   ]
  },
  {
   "cell_type": "markdown",
   "metadata": {},
   "source": [
    "### **``PROC PRINT``**"
   ]
  },
  {
   "cell_type": "markdown",
   "metadata": {},
   "source": [
    "**Affiche les observations d'une table SAS.**"
   ]
  },
  {
   "cell_type": "markdown",
   "metadata": {},
   "source": [
    "```sas\n",
    "PROC PRINT DATA=nom_table (OBS=10); /* Limite à 10 observations */\n",
    "   /* LABEL; : Affiche les étiquettes des colonnes au lieu des noms. */\n",
    "   /* VAR colonne1 colonne2; : Sélectionne les colonnes à afficher. */\n",
    "RUN;"
   ]
  },
  {
   "cell_type": "markdown",
   "metadata": {},
   "source": [
    "### **``PROC CONTENTS``**"
   ]
  },
  {
   "cell_type": "markdown",
   "metadata": {},
   "source": [
    "**Affiche des informations sur les tables, comme les noms de variables, types et formats.**"
   ]
  },
  {
   "cell_type": "markdown",
   "metadata": {},
   "source": [
    "```sas\n",
    "PROC CONTENTS DATA=nom_table;\n",
    "   /* VARNUM; : Affiche les variables dans l'ordre où elles ont été créées. */\n",
    "   /* SHORT; : Affiche un résumé compact des métadonnées. */\n",
    "RUN;"
   ]
  },
  {
   "cell_type": "markdown",
   "metadata": {},
   "source": [
    "## **4. Procédures pour l'analyse avancée**"
   ]
  },
  {
   "cell_type": "markdown",
   "metadata": {},
   "source": [
    "### **``PROC REG``**"
   ]
  },
  {
   "cell_type": "markdown",
   "metadata": {},
   "source": [
    "**Réalise des régressions linéaires simples et multiples.**"
   ]
  },
  {
   "cell_type": "markdown",
   "metadata": {
    "vscode": {
     "languageId": "raw"
    }
   },
   "source": [
    "```sas\n",
    "PROC REG DATA=nom_table;\n",
    "    MODEL y = x1 x2 x3; /* Variable cible et prédicteurs */\n",
    "    /* PLOT; : Affiche les résidus et diagnostics de régression. */\n",
    "    /* SELECTION=STEPWISE; : Utilise une sélection pas à pas des variables. */\n",
    "RUN;\n",
    "QUIT;"
   ]
  },
  {
   "cell_type": "markdown",
   "metadata": {},
   "source": [
    "### **``PROC CORR``**"
   ]
  },
  {
   "cell_type": "markdown",
   "metadata": {},
   "source": [
    "**Calcule les coefficients de corrélation entre variables numériques.**"
   ]
  },
  {
   "cell_type": "markdown",
   "metadata": {
    "vscode": {
     "languageId": "raw"
    }
   },
   "source": [
    "```sas\n",
    "PROC CORR DATA=nom_table;\n",
    "    VAR colonne1 colonne2; /* Variables à corréler */\n",
    "    /* PEARSON; : Calcule les corrélations de Pearson. */\n",
    "    /* SPEARMAN; : Calcule les corrélations de Spearman. */\n",
    "RUN;"
   ]
  },
  {
   "cell_type": "markdown",
   "metadata": {},
   "source": [
    "## **5. Rappel de la structure de la ``PROC SQL``**"
   ]
  },
  {
   "cell_type": "markdown",
   "metadata": {},
   "source": [
    "```sas\n",
    "PROC SQL outobs=N; /* Limite le nombre de lignes affichées dans la sortie */\n",
    "/* VALIDATE : Vérifie la syntaxe sans exécuter */\n",
    "CREATE TABLE nom_table AS\n",
    "    SELECT /* colonnes à afficher */\n",
    "    INTO :col1 SEPARATED BY ', ', :col2 SEPARATED BY ', '/* Pour créer des macros */\n",
    "    /* Il faut autant de \":col\" que de variables affichées par le SELECT. */\n",
    "    /* \"SEPARATED BY ', '\" permet de stocker les valeurs en les séparant par ', ' */\n",
    "    FROM /* table source */\n",
    "    WHERE /* conditions pour filtrer les lignes */\n",
    "    GROUP BY /* colonnes pour regrouper les données */\n",
    "    HAVING /* conditions sur les groupes */\n",
    "    ORDER BY /* colonnes pour trier les résultats (ASC par défaut, DESC)*/\n",
    ";\n",
    "QUIT;"
   ]
  },
  {
   "cell_type": "markdown",
   "metadata": {},
   "source": [
    "## **6. Hechek ``Étape DATA``**"
   ]
  },
  {
   "cell_type": "markdown",
   "metadata": {},
   "source": [
    "**Créer une table avec des données directement dans SAS**"
   ]
  },
  {
   "cell_type": "markdown",
   "metadata": {},
   "source": [
    "```sas\n",
    "DATA ventes;\n",
    "    INPUT produit $ quantite prix_unitaire;\n",
    "    /* le $ à la suite d'une variable indique que c'est une variable caractère */\n",
    "    DATALINES;\n",
    "Chaise 10 45.5\n",
    "Table 5 120.99\n",
    "Canapé 2 450.75\n",
    ";\n",
    "RUN;"
   ]
  },
  {
   "cell_type": "markdown",
   "metadata": {},
   "source": [
    "**Manipulations de base**"
   ]
  },
  {
   "cell_type": "markdown",
   "metadata": {},
   "source": [
    "```sas\n",
    "DATA manipulations;\n",
    "    SET table_entree;\n",
    "    RENAME ancienne_variable = nouvelle_variable; /* Renommer une variable */\n",
    "    KEEP produit nb_produits prix_unitaire categorie; /* Conserver uniquement ces variables */\n",
    "    DROP prix_unitaire categorie; /* Supprimer ces variables */\n",
    "    IF prix_unitaire > 10; /* Garder les lignes où la condition est remplie */\n",
    "    IF _N_ <= 10; /* Conserve uniquement les 10 premières lignes */\n",
    "    IF MISSING(quantite) THEN statut = \"Manquant\";\n",
    "    ELSE statut = \"Non manquant\";\n",
    "RUN;"
   ]
  },
  {
   "cell_type": "markdown",
   "metadata": {},
   "source": [
    "**Conditions avec ``IF-THEN-ELSE``**"
   ]
  },
  {
   "cell_type": "markdown",
   "metadata": {},
   "source": [
    "``IF-THEN-ELSE`` : Plus flexible, adapté aux conditions complexes."
   ]
  },
  {
   "cell_type": "markdown",
   "metadata": {},
   "source": [
    "```sas\n",
    "DATA ventes_categorisees;\n",
    "    SET ventes;\n",
    "    IF prix_unitaire > 200 THEN categorie = \"Haut de gamme\";\n",
    "    ELSE IF prix_unitaire > 100 THEN categorie = \"Moyen de gamme\";\n",
    "    ELSE categorie = \"Entrée de gamme\";\n",
    "RUN;"
   ]
  },
  {
   "cell_type": "markdown",
   "metadata": {},
   "source": [
    "**Conditions avec ``SELECT-WHEN-OTHERWISE``**"
   ]
  },
  {
   "cell_type": "markdown",
   "metadata": {},
   "source": [
    "``SELECT-WHEN-OTHERWISE`` : Plus lisible, idéal quand les conditions sont mutuellement exclusives."
   ]
  },
  {
   "cell_type": "markdown",
   "metadata": {},
   "source": [
    "```sas\n",
    "DATA ventes_categorisees;\n",
    "    SET ventes;\n",
    "    SELECT;\n",
    "        WHEN (prix_unitaire > 200) categorie = \"Haut de gamme\";\n",
    "        WHEN (prix_unitaire > 100) categorie = \"Moyen de gamme\";\n",
    "        OTHERWISE categorie = \"Entrée de gamme\";\n",
    "    END;\n",
    "RUN;"
   ]
  },
  {
   "cell_type": "markdown",
   "metadata": {},
   "source": [
    "**Exemple pour l'exercice 7 de l'examen SAS Avancé 2023-2024**"
   ]
  },
  {
   "cell_type": "markdown",
   "metadata": {},
   "source": [
    "```sas\n",
    "data in.table_output_1 in.table_output_2;\n",
    "    set in.table_programme_sql;\n",
    "    select;\n",
    "        when (substr(lowcase(var1), 1, 7) = 'libname' or substr(var1, 1, 2) = '/*') output in.table_output_1;\n",
    "        when (var1 ne '') output in.table_output_2; /* Exclure les lignes vides ou invisibles */\n",
    "        otherwise; /* Capture toutes les autres lignes */\n",
    "    end;\n",
    "run;"
   ]
  },
  {
   "cell_type": "markdown",
   "metadata": {},
   "source": [
    "**Exemple des possibilités de ``RETAIN``, ``FIRST.`` et ``LAST.``**"
   ]
  },
  {
   "cell_type": "markdown",
   "metadata": {},
   "source": [
    "```sas\n",
    "DATA ventes_analyse;\n",
    "    SET ventes;\n",
    "    BY produit;\n",
    "\n",
    "    /* Initialisation des variables avec RETAIN */\n",
    "    RETAIN cumul_ventes max_vente indicateur_debut;\n",
    "\n",
    "    /* Réinitialisation pour chaque nouveau groupe */\n",
    "    IF FIRST.produit THEN DO;\n",
    "        cumul_ventes = 0;\n",
    "        max_vente = 0;\n",
    "        indicateur_debut = 1;\n",
    "    END;\n",
    "    ELSE indicateur_debut = 0;\n",
    "\n",
    "    /* Calculs pour chaque observation */\n",
    "    cumul_ventes + quantite * prix_unitaire; /* Ajout au total cumulé */\n",
    "    IF quantite * prix_unitaire > max_vente THEN max_vente = quantite * prix_unitaire; /* Mise à jour du maximum */\n",
    "\n",
    "    /* Sortir uniquement la dernière observation */\n",
    "    IF LAST.produit THEN OUTPUT;\n",
    "\n",
    "    /* Conserver uniquement les variables nécessaires */\n",
    "    KEEP produit quantite prix_unitaire cumul_ventes max_vente indicateur_debut;\n",
    "RUN;"
   ]
  },
  {
   "cell_type": "markdown",
   "metadata": {},
   "source": [
    "**Extraction de lignes spécifiques avec ``RETAIN`` et un *FLAG*.**"
   ]
  },
  {
   "cell_type": "markdown",
   "metadata": {},
   "source": [
    "```sas\n",
    "DATA lignes_extraites;\n",
    "    SET log_data; /* Contient les lignes à analyser */\n",
    "    RETAIN flag 0;\n",
    "\n",
    "    /* Activer le flag si la ligne commence par 'proc sql' */\n",
    "    IF SUBSTR(ligne, 1, 8) = 'proc sql' THEN flag = 1;\n",
    "\n",
    "    /* Sortir les lignes où le flag est activé */\n",
    "    IF flag = 1 THEN OUTPUT;\n",
    "\n",
    "    /* Désactiver le flag si la ligne commence par 'quit' */\n",
    "    IF SUBSTR(ligne, 1, 4) = 'quit' THEN flag = 0;\n",
    "\n",
    "    /* Conserver uniquement la variable 'ligne' */\n",
    "    KEEP ligne;\n",
    "RUN;"
   ]
  },
  {
   "cell_type": "markdown",
   "metadata": {},
   "source": [
    "**Jointures**"
   ]
  },
  {
   "cell_type": "markdown",
   "metadata": {},
   "source": [
    "```sas\n",
    "/* Jointures regroupées */\n",
    "DATA table_sortie;\n",
    "    MERGE table1(IN=a) table2(IN=b);\n",
    "    BY id;\n",
    "\n",
    "    /* Jointures */\n",
    "    IF a AND b THEN OUTPUT inner_join; /* Inner Join (Présent dans les deux tables) */\n",
    "    IF a THEN OUTPUT left_join;       /* Left Join (Toutes les lignes de table1) */\n",
    "    IF b THEN OUTPUT right_join;      /* Right Join (Toutes les lignes de table2) */\n",
    "    IF a AND NOT b THEN OUTPUT left_anti_join; /* Left Anti Join (Présent dans table1 mais pas dans table2) */\n",
    "    IF b AND NOT a THEN OUTPUT right_anti_join; /* Right Anti Join (Présent dans table2 mais pas dans table1) */\n",
    "\n",
    "    /* Full Join (toutes les observations des deux tables, aucune condition) */\n",
    "    OUTPUT full_join;\n",
    "RUN;\n",
    "\n",
    "/* Concaténation verticale */\n",
    "DATA concat_vertical;\n",
    "    SET table1 table2; /* Empile les observations de table1 et table2 */\n",
    "RUN;"
   ]
  },
  {
   "cell_type": "markdown",
   "metadata": {},
   "source": [
    "## **7. Macros**"
   ]
  },
  {
   "cell_type": "markdown",
   "metadata": {},
   "source": [
    "**Créer des Macro-Variables à partir de ``PROC SQL``**"
   ]
  },
  {
   "cell_type": "markdown",
   "metadata": {},
   "source": [
    "```sas\n",
    "PROC SQL;\n",
    "    SELECT COUNT(*) INTO :nb_lignes /* Stocke le nombre d'observations dans la macro-variable nb_lignes */\n",
    "    FROM table;\n",
    "QUIT;\n",
    "\n",
    "%PUT Le nombre de lignes est : &nb_lignes; /* Affiche la valeur de la macro-variable */"
   ]
  },
  {
   "cell_type": "markdown",
   "metadata": {},
   "source": [
    "**Créer un chemin d'accès avec une Macro**"
   ]
  },
  {
   "cell_type": "markdown",
   "metadata": {},
   "source": [
    "```sas\n",
    "%LET chemin= C:\\Users\\MonUtilisateur\\SAS\\Data\\;\n",
    "\n",
    "DATA mydata;\n",
    "    SET \"&chemin.table.sas7bdat\"; /* Utilisation du chemin défini */\n",
    "RUN;\n",
    "\n",
    "%PUT Le chemin défini est : &chemin; /* Affiche le chemin dans le log */"
   ]
  },
  {
   "cell_type": "markdown",
   "metadata": {},
   "source": [
    "**Définir une Macro avec Paramètres**"
   ]
  },
  {
   "cell_type": "markdown",
   "metadata": {},
   "source": [
    "```sas\n",
    "%MACRO filtre_macro(dataset, variable, condition=);\n",
    "    PROC PRINT DATA=&dataset;\n",
    "        WHERE &variable &condition; /* Applique un filtre avec une condition dynamique */\n",
    "    RUN;\n",
    "%MEND;\n",
    "\n",
    "/* Appeler la macro */\n",
    "%filtre_macro(dataset=table, variable=age, condition=>30);"
   ]
  },
  {
   "cell_type": "markdown",
   "metadata": {},
   "source": [
    "**Exemple de création de quartiles avec ``PROC MEANS``, stockage dans des Macro-Variables puis utilisation dans une heheck ``Etape DATA``.**"
   ]
  },
  {
   "cell_type": "markdown",
   "metadata": {},
   "source": [
    "```sas\n",
    "PROC MEANS DATA=dataset NOPRINT;\n",
    "    VAR score; /* Variable pour laquelle on calcule les quartiles */\n",
    "    OUTPUT OUT=quartiles PCTLPTS=25 50 75 PCTLPRE=Q_;\n",
    "RUN;\n",
    "\n",
    "DATA _NULL_;\n",
    "    SET quartiles;\n",
    "    CALL SYMPUTX('q1', Q_25); /* Quartile 1 */\n",
    "    CALL SYMPUTX('median', Q_50); /* Médiane (Q2) */\n",
    "    CALL SYMPUTX('q3', Q_75); /* Quartile 3 */\n",
    "RUN;\n",
    "\n",
    "DATA class_quartiles;\n",
    "    SET dataset;\n",
    "\n",
    "    /* Classification basée sur les quartiles */\n",
    "    IF score < &q1 THEN categorie = 'Bas';\n",
    "    ELSE IF score < &median THEN categorie = 'Moyen-Bas';\n",
    "    ELSE IF score < &q3 THEN categorie = 'Moyen-Haut';\n",
    "    ELSE categorie = 'Haut';\n",
    "RUN;"
   ]
  },
  {
   "cell_type": "markdown",
   "metadata": {},
   "source": [
    "**Macro qui boucle à partir d'une liste de macro-variables (examen 2023-2024)**"
   ]
  },
  {
   "cell_type": "markdown",
   "metadata": {},
   "source": [
    "```sas\n",
    "%macro suppression_librefs;\n",
    "\n",
    "    data code_sql3;\n",
    "        set in.code_sql2;\n",
    "    run;\n",
    "\n",
    "    /* Déterminer le nombre total de librefs dans librefs_list */\n",
    "    %let nb_librefs = %sysfunc(countw(&librefs_list, %str( )));\n",
    "\n",
    "    /* Boucle sur les librefs dans librefs_list */\n",
    "    %do i = 1 %to &nb_librefs;\n",
    "\n",
    "        /* Récupérer le libref courant */\n",
    "        %let current_libref = %scan(&librefs_list, &i);\n",
    "\n",
    "        /* Remplacer le libref suivi d'un point */\n",
    "        data code_sql3;\n",
    "            set code_sql3;\n",
    "            new_code = tranwrd(new_code, \"&current_libref..\", \" \"); /* Remplace 'libref.' par un espace */\n",
    "        run;\n",
    "\n",
    "    %end;\n",
    "\n",
    "%mend suppression_librefs;\n",
    "\n",
    "%suppression_librefs;"
   ]
  },
  {
   "cell_type": "markdown",
   "metadata": {},
   "source": [
    "## **8. FONCTIONS UTILES**"
   ]
  },
  {
   "cell_type": "markdown",
   "metadata": {},
   "source": [
    "**Modification de variables**"
   ]
  },
  {
   "cell_type": "markdown",
   "metadata": {},
   "source": [
    "```sas\n",
    "/* SCAN : Extrait un mot spécifique d'une chaîne selon un délimiteur */\n",
    "SCAN(string_variable, 2, '-');\n",
    "\n",
    "/* SUBSTR : Extrait une sous-chaîne à partir d'une position donnée */\n",
    "SUBSTR(string_variable, 3, 5); /* À partir du 3e caractère, longueur 5 */\n",
    "\n",
    "/* Chercher si une chaîne est présente dans une variable */ \n",
    "INDEX(libelle, 'AIX') > 0;\n",
    "\n",
    "/* UPCASE / LOWCASE : Convertit une chaîne en majuscules */\n",
    "UPCASE(string_variable);\n",
    "LOWCASE(string_variable);\n",
    "\n",
    "/* COMPRESS : Supprime les espaces ou des caractères spécifiques d'une chaîne (ou TRIM()) */\n",
    "COMPRESS(string_variable, ' '); /* Supprime les espaces */\n",
    "\n",
    "/* CAT : Concatène des valeurs sans espace */\n",
    "CAT(var1, var2);\n",
    "\n",
    "/* CATX : Concatène des valeurs avec un séparateur (ici un espace) */\n",
    "CATX(' ', var1, var2);\n",
    "\n",
    "/* CATS : Concatène des valeurs en supprimant les espaces inutiles */\n",
    "trimmed_concatenation = CATS(var1, var2);"
   ]
  },
  {
   "cell_type": "markdown",
   "metadata": {},
   "source": [
    "**Calculs à partir de variables**"
   ]
  },
  {
   "cell_type": "markdown",
   "metadata": {},
   "source": [
    "```sas\n",
    "/* AVG : Calcule la moyenne des valeurs numériques */\n",
    "AVG(var1, var2, var3);\n",
    "\n",
    "/* MIN : Renvoie la valeur minimale */\n",
    "MIN(var1, var2, var3);\n",
    "\n",
    "/* INT : Extrait la partie entière d'un nombre */\n",
    "INT(123.45);\n",
    "\n",
    "/* ROUND : Arrondit un nombre à une précision donnée */\n",
    "ROUND(var1, 0.01); /* Arrondit au centième */\n",
    "\n",
    "/* Appeler une Macro dans une Etape DATA */\n",
    "CALL SYMPUT('macro_nom', valeur);\n",
    "/* Afficher une Macro */\n",
    "%PUT Valeur de la macro : &macro_nom;"
   ]
  },
  {
   "cell_type": "markdown",
   "metadata": {},
   "source": [
    "**Formats**"
   ]
  },
  {
   "cell_type": "markdown",
   "metadata": {},
   "source": [
    "```sas\n",
    "/* Extraire l'année / mois / jour / minute, etc */\n",
    "YEAR(date_variable);\n",
    "MONTH(date_variable);\n",
    "DAY(date_variable);\n",
    "MINUTE(date_variable);\n",
    "TIME(date_variable);\n",
    "\n",
    "/* MDY : Crée une date à partir de mois, jour et année */\n",
    "MDY(12, 25, 2024);\n",
    "\n",
    "/* INTNX : Calcule une nouvelle date en ajoutant des intervalles */\n",
    "INTNX('MONTH', date_variable, 1); /* Ajoute 1 mois */\n",
    "\n",
    "/* INTCK : Calcule la différence entre deux dates en intervalles */\n",
    "INTCK('MONTH', date1, date2);\n",
    "INTCK('minute', datetime_sas, 0, 'beginning') *Pour normaliser une date/heure à une granularité (ici minute);\n",
    "INTCK('minute', '00:00:00't, timepart(datetime_sas))\n",
    "\n",
    "/* Pour comparer des dates/heures */\n",
    "'10FEB2020:00:00:00'dt ou '10FEB2020'd\n",
    "\n",
    "/* A savoir sur les formats de date */\n",
    "input(char_date, DDMMYY10.) *Si la chaîne de caractères suit le format DD/MM/YYYY;\n",
    "DDMMYY10. = 10/02/2020\n",
    "YYMMDD10. = 2020-02-10\n",
    "DATE9. = 10FEB2020\n",
    "TIME.\n",
    "\n",
    "/* PUT = Numérique vers caractère */\n",
    "put(num_var, 8.); /* percent8.2 transforme 0.8456 en 84.56% */\n",
    "\n",
    "/* INPUT = Caractère vers numérique */\n",
    "input(char_var, 8.);"
   ]
  },
  {
   "cell_type": "markdown",
   "metadata": {},
   "source": [
    "### **``PROC FORMAT``**"
   ]
  },
  {
   "cell_type": "markdown",
   "metadata": {},
   "source": [
    "**Mapping de valeurs (jobTitle) à des catégories (CSP) via un format personnalisé, puis ajoute ces catégories à une nouvelle colonne dans une table.**"
   ]
  },
  {
   "cell_type": "markdown",
   "metadata": {},
   "source": [
    "```sas\n",
    "/* Étape 1 : Préparer la table CNTLIN */\n",
    "data format_table;\n",
    "    set source_table; /* Table contenant les données de mappage */\n",
    "    FMTNAME = 'custom_fmt'; /* Nom du format */\n",
    "    TYPE = \"C\"; /* Spécifie que la variable est de type caractère */\n",
    "    RENAME jobTitle = START; /* Valeur d'entrée */\n",
    "    LABEL = CSP; /* Valeur de sortie */\n",
    "run;\n",
    "\n",
    "/* Étape 2 : Créer le format */\n",
    "proc format cntlin=format_table;\n",
    "run;\n",
    "\n",
    "/* Étape 3 : Utiliser le format */\n",
    "data transformed_table;\n",
    "    set input_table; /* Table source */\n",
    "    new_variable = put(jobTitle, custom_fmt.); /* Appliquer le format */\n",
    "run;\n",
    "\n",
    "/* Étape 4 : Vérifier le résultat */\n",
    "proc print data=transformed_table;\n",
    "run;"
   ]
  },
  {
   "cell_type": "markdown",
   "metadata": {},
   "source": [
    "### **``PROC RANK``**"
   ]
  },
  {
   "cell_type": "markdown",
   "metadata": {},
   "source": [
    "**Création et affectation de quantiles**"
   ]
  },
  {
   "cell_type": "markdown",
   "metadata": {},
   "source": [
    "```sas\n",
    "PROC RANK DATA=input_table OUT=output_table GROUPS=4;\n",
    "    VAR score; /* Variable à classer */\n",
    "    RANKS quartile_score; /* Nouvelle variable avec le quartile */\n",
    "RUN;"
   ]
  }
 ],
 "metadata": {
  "kernelspec": {
   "display_name": "conda_projets",
   "language": "python",
   "name": "python3"
  },
  "language_info": {
   "codemirror_mode": {
    "name": "ipython",
    "version": 3
   },
   "file_extension": ".py",
   "mimetype": "text/x-python",
   "name": "python",
   "nbconvert_exporter": "python",
   "pygments_lexer": "ipython3",
   "version": "3.11.9"
  }
 },
 "nbformat": 4,
 "nbformat_minor": 4
}
